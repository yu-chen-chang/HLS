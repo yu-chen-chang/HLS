{
 "cells": [
  {
   "cell_type": "code",
   "execution_count": null,
   "metadata": {},
   "outputs": [],
   "source": [
    "from pynq import Overlay\n",
    "import pynq_composable\n",
    "ol = Overlay(\"/home/xilinx/bit_file/top.bit\")\n",
    "ol.download()\n",
    "\n",
    "ol.pr_download(\"arithmetic/pr_join\",\"/home/xilinx/bit_file/top_i_arithmetic_pr_join_pr_join_multiply.bit\")\n",
    "ol.pr_dict",
    "\n",
    "ol.arithmetic"
   ]
  }
 ],
 "metadata": {
  "language_info": {
   "name": "python"
  },
  "orig_nbformat": 4
 },
 "nbformat": 4,
 "nbformat_minor": 2
}
